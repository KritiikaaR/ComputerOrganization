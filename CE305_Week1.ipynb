{
  "nbformat": 4,
  "nbformat_minor": 0,
  "metadata": {
    "colab": {
      "provenance": []
    },
    "kernelspec": {
      "name": "python3",
      "display_name": "Python 3"
    },
    "language_info": {
      "name": "python"
    }
  },
  "cells": [
    {
      "cell_type": "code",
      "source": [
        "#CE305_Week1_Question2_19702_Kritika_Regmi\n",
        "\n",
        "def floating_model(floating_dec):\n",
        "\n",
        "#Check if the number is negative or positive, and figure the sign bit\n",
        "  if floating_dec<0:\n",
        "    sign='1'\n",
        "    floating_dec=abs(floating_dec)\n",
        "  else:\n",
        "    sign='0'\n",
        "\n",
        "#Convert the decimal number into binary\n",
        "  integer=int(floating_dec)\n",
        "  fraction=floating_dec-integer\n",
        "\n",
        "#slicing is to remove the prefix\n",
        "  binary_integer=bin(integer)[2:]\n",
        "\n",
        "#Creating an empty string so we can add binary value of the fractional part\n",
        "  binary_fraction=''\n",
        "\n",
        "#converting the fractional part to binary\n",
        "  while fraction != 0.0: #loop to make sure the entire fraction is converted to binary\n",
        "    fraction=fraction*2   #multiply by 2\n",
        "    whole_num=int(fraction)   #take the whole number and repeat the process\n",
        "    binary_fraction += str(whole_num)\n",
        "    fraction -= whole_num\n",
        "\n",
        "  exp= len(binary_integer)\n",
        "  exponent=bin(exp+16)[2:]    #Adding the exponent to 16 and slicing to remove prefix\n",
        "  if len(exponent)<5:         #Making sure the exponent is 5 bits\n",
        "    exponent='0'* (5-len(exponent))\n",
        "\n",
        "#converting into string so they dont add and only concatenate\n",
        "  sig1=str(binary_integer)\n",
        "  sig2=str(binary_fraction)\n",
        "\n",
        "  significand= sig1+sig2\n",
        "  if len(significand) > 8:   #Making sure the significand is 8 bits\n",
        "        significand = significand[:8]\n",
        "\n",
        "  binary_floating_model = sign +'_' + exponent + '_'  + significand\n",
        "  return binary_floating_model\n",
        "\n",
        "floating_model(-26.625)"
      ],
      "metadata": {
        "colab": {
          "base_uri": "https://localhost:8080/",
          "height": 36
        },
        "id": "VGvDheuhvl-s",
        "outputId": "781964bd-7bd0-48d5-9573-9a920c0a8f99"
      },
      "execution_count": 8,
      "outputs": [
        {
          "output_type": "execute_result",
          "data": {
            "text/plain": [
              "'1_10101_11010101'"
            ],
            "application/vnd.google.colaboratory.intrinsic+json": {
              "type": "string"
            }
          },
          "metadata": {},
          "execution_count": 8
        }
      ]
    },
    {
      "cell_type": "code",
      "source": [
        "#CE305_Week1_Question1_19702_Kritika_Regmi\n",
        "def base_conv(num, base, new_base):\n",
        "    check_num = num\n",
        "    num = num.split('-')\n",
        "    print(num)\n",
        "    valid_num = num[1:(len(num)-1)]\n",
        "    print(\"Numbers inside hyphens:\", valid_num)\n",
        "\n",
        "    # Check for validity\n",
        "    for digit in valid_num:\n",
        "        if int(digit) >= base:\n",
        "            print(\"Error: Invalid digit in the number.\")\n",
        "            return\n",
        "\n",
        "    newnum = check_num.replace('-', \"\")\n",
        "    decimal_value = 0\n",
        "    power = (len(newnum) - 1) - len(valid_num)\n",
        "\n",
        "    # First index value conversion\n",
        "    for char in num[0]:\n",
        "        if char == \" \":\n",
        "            break\n",
        "        else:\n",
        "            for digit in char:\n",
        "                conversion = int(digit) * (base ** power)\n",
        "                decimal_value += conversion\n",
        "                power -= 1\n",
        "    stored_power = power\n",
        "\n",
        "    # Middle index value conversion\n",
        "    for digit in valid_num:\n",
        "        conversion = int(digit) * (base ** stored_power)\n",
        "        decimal_value += conversion\n",
        "        stored_power -= 1\n",
        "\n",
        "    new_power = stored_power\n",
        "\n",
        "    # Last index conversion\n",
        "    for char in num[-1]:\n",
        "        if char == \" \":\n",
        "            break\n",
        "        else:\n",
        "            for digit in char:\n",
        "                conversion = int(digit) * (base ** new_power)\n",
        "                decimal_value += conversion\n",
        "                new_power -= 1\n",
        "\n",
        "    print(\"Conversion to actual base:\", decimal_value)\n",
        "\n",
        "    # Conversion to the new_base\n",
        "    new_number = decimal_value\n",
        "    result = \"\"\n",
        "    while new_number > 0:\n",
        "        remainder = new_number % new_base\n",
        "        result = \"-\" + str(remainder) + result\n",
        "        new_number //= new_base\n",
        "\n",
        "    print(\"Conversion to new_base:\", result)\n",
        "\n",
        "# Example usage:\n",
        "base_conv('123-46-6', 46, 23)\n",
        "# base_conv('6-54-3-21-', 63, 74)\n",
        "\n"
      ],
      "metadata": {
        "colab": {
          "base_uri": "https://localhost:8080/"
        },
        "id": "1lm3ylJTOHQj",
        "outputId": "a95e2a3b-8e00-4e09-da4d-4b83da186424"
      },
      "execution_count": 27,
      "outputs": [
        {
          "output_type": "stream",
          "name": "stdout",
          "text": [
            "['123', '46', '6']\n",
            "Numbers inside hyphens: ['46']\n",
            "Error: Invalid digit in the number.\n"
          ]
        }
      ]
    }
  ]
}